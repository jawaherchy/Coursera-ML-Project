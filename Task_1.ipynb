{
  "nbformat": 4,
  "nbformat_minor": 0,
  "metadata": {
    "colab": {
      "name": "Task_1.ipynb",
      "provenance": [],
      "collapsed_sections": [],
      "authorship_tag": "ABX9TyMLzuoKEZtlwbb4csjaWw/G",
      "include_colab_link": true
    },
    "kernelspec": {
      "name": "python3",
      "display_name": "Python 3"
    },
    "language_info": {
      "name": "python"
    }
  },
  "cells": [
    {
      "cell_type": "markdown",
      "metadata": {
        "id": "view-in-github",
        "colab_type": "text"
      },
      "source": [
        "<a href=\"https://colab.research.google.com/github/jawaherchy/Coursera-ML-Project/blob/main/Task_1.ipynb\" target=\"_parent\"><img src=\"https://colab.research.google.com/assets/colab-badge.svg\" alt=\"Open In Colab\"/></a>"
      ]
    },
    {
      "cell_type": "code",
      "source": [
        "import spacy\n",
        "from spacy.lang.en import English\n",
        "from spacy.pipeline import EntityRuler\n",
        "import json"
      ],
      "metadata": {
        "id": "4m3uYbtAQkhU"
      },
      "execution_count": 1,
      "outputs": []
    },
    {
      "cell_type": "code",
      "source": [
        "def load_data(file):\n",
        "  with open(file, \"r\", encoding ='utf-8') as f:\n",
        "    data = json.load(f)\n",
        "  return (data)"
      ],
      "metadata": {
        "id": "OwZpTb_0Q8cq"
      },
      "execution_count": 2,
      "outputs": []
    },
    {
      "cell_type": "code",
      "source": [
        "def save_data(file,data):\n",
        "  with open(file,\"w\", encoding = 'utf-8') as f:\n",
        "    json.dump(data, f, indent =4)"
      ],
      "metadata": {
        "id": "ruGCCm-8W5wK"
      },
      "execution_count": 3,
      "outputs": []
    },
    {
      "cell_type": "code",
      "source": [
        "from typing import Pattern\n",
        "def generate(file):\n",
        "  data = load_data(file)\n",
        "  print(len(data))\n",
        "  new_food = []\n",
        "  for item in data:\n",
        "    new_food.append(item)\n",
        "  for item in data:\n",
        "    item = item.replace(\"The\",\"\").replace(\"the\",\"\").replace(\"and\",\"\").replace(\"And\",\"\")\n",
        "    names = item.split(\" \")\n",
        "    for name in names:\n",
        "      name = name.strip()\n",
        "      new_food.append(name)\n",
        "    if \"(\" in item:\n",
        "      names = item.split(\"(\")\n",
        "      for name in names:\n",
        "        name = name.replace(\")\",\"\").strip()\n",
        "        new_food.append(name)\n",
        "    if \",\" in item:\n",
        "      names = item.split(\",\")\n",
        "      for name in names:\n",
        "        name = name.replace(\"and\",\"\").strip()\n",
        "        if \" \" in name:\n",
        "          new_names = name.split()\n",
        "          for x in new_names:\n",
        "            x = x.strip()\n",
        "            new_food.append(x)\n",
        "        new_food.append(name)\n",
        "  print(len(new_food))\n",
        "  final_food = []\n",
        "  titles = [\"milk\", \"chocolate\" \"cheese\", \"sub\",\"steak\",\"fried\",\"barbacoa\",\"spicy\",\"sweet\",\"beef\",\"chicken\"]\n",
        "  for food in new_food:\n",
        "    if \"\" != food:\n",
        "      final_food.append(food)\n",
        "      for title in titles:\n",
        "        titled_food = f\"{title} {food}\"\n",
        "        final_food.append(titled_food)\n",
        "\n",
        "  final_food = list(set(new_food))\n",
        "  print(len(final_food))\n",
        "  final_food.sort()\n",
        "  return final_food\n"
      ],
      "metadata": {
        "id": "-NiiZVApRDpn"
      },
      "execution_count": 4,
      "outputs": []
    },
    {
      "cell_type": "code",
      "source": [
        "food = generate(\"/content/sample_data/text.json\")"
      ],
      "metadata": {
        "id": "PIJMBYtIRX7Z",
        "colab": {
          "base_uri": "https://localhost:8080/"
        },
        "outputId": "ddae1cef-596c-4cc7-ebe0-bf04fe4b50f2"
      },
      "execution_count": 5,
      "outputs": [
        {
          "output_type": "stream",
          "name": "stdout",
          "text": [
            "38\n",
            "126\n",
            "63\n"
          ]
        }
      ]
    },
    {
      "cell_type": "code",
      "source": [
        "def create_training_data(file, type):\n",
        "   data = generate(file)\n",
        "   patterns = []\n",
        "   for item in data:\n",
        "     pattern = {\n",
        "         \"label\" : type,\n",
        "         \"pattern\" : item\n",
        "     }\n",
        "     patterns.append(pattern)\n",
        "   return (patterns)\n",
        "\n",
        "\n",
        "def generate_rules(patterns):\n",
        "  nlp = English()\n",
        "  ruler = nlp.add_pipe(\"entity_ruler\")\n",
        "  ruler.add_patterns(patterns)\n",
        "  nlp.to_disk(\"food_ner\")"
      ],
      "metadata": {
        "id": "1HvlkGONdyE1"
      },
      "execution_count": 6,
      "outputs": []
    },
    {
      "cell_type": "code",
      "source": [
        "\n",
        "patterns = create_training_data(\"/content/sample_data/text.json\", \"Food\")"
      ],
      "metadata": {
        "colab": {
          "base_uri": "https://localhost:8080/"
        },
        "id": "r7Y-gDqrp5WO",
        "outputId": "bd14215c-2c2e-4e40-ae23-5419e01ff0fa"
      },
      "execution_count": 7,
      "outputs": [
        {
          "output_type": "stream",
          "name": "stdout",
          "text": [
            "38\n",
            "126\n",
            "63\n"
          ]
        }
      ]
    },
    {
      "cell_type": "code",
      "source": [
        "generate_rules(patterns)"
      ],
      "metadata": {
        "id": "4o-0KpiduyCR"
      },
      "execution_count": 8,
      "outputs": []
    },
    {
      "cell_type": "code",
      "source": [
        "def test_model(model, text):\n",
        "  doc = nlp(text)\n",
        "  results = []\n",
        "  for ent in doc.ents:\n",
        "    results.append(ent.text)\n",
        "  return(results)"
      ],
      "metadata": {
        "id": "0wlQeD0i2fH7"
      },
      "execution_count": 9,
      "outputs": []
    },
    {
      "cell_type": "code",
      "source": [
        "nlp = spacy.load (\"food_ner\")"
      ],
      "metadata": {
        "id": "ZW_78uYuyaxS"
      },
      "execution_count": 10,
      "outputs": []
    },
    {
      "cell_type": "code",
      "source": [
        "nlp.pipe_names"
      ],
      "metadata": {
        "colab": {
          "base_uri": "https://localhost:8080/"
        },
        "id": "riJuGX8Efsf-",
        "outputId": "01f74111-d487-47af-c794-f5acca499ba3"
      },
      "execution_count": 11,
      "outputs": [
        {
          "output_type": "execute_result",
          "data": {
            "text/plain": [
              "['entity_ruler']"
            ]
          },
          "metadata": {},
          "execution_count": 11
        }
      ]
    },
    {
      "cell_type": "code",
      "source": [
        "doc = nlp(\"Naturally carrots, beets, sweet potatoes, yams add to your meals and reduce your cravings for added sugar.\")"
      ],
      "metadata": {
        "id": "cviMN6N-Z5QD"
      },
      "execution_count": 12,
      "outputs": []
    },
    {
      "cell_type": "code",
      "source": [
        "for ent in doc.ents:\n",
        "  print(ent.text,\"|\",ent.label_)"
      ],
      "metadata": {
        "colab": {
          "base_uri": "https://localhost:8080/"
        },
        "id": "7G9V3NZkf3ha",
        "outputId": "032adf93-8710-451c-8f46-9f3253fb0cca"
      },
      "execution_count": 13,
      "outputs": [
        {
          "output_type": "stream",
          "name": "stdout",
          "text": [
            "sweet | Food\n",
            "carrots | Food\n",
            "beets | Food\n",
            "sweet potatoes | Food\n",
            "yams | Food\n",
            "sugar | Food\n",
            "sweet | Food\n"
          ]
        }
      ]
    }
  ]
}